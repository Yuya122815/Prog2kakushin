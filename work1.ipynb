{
  "nbformat": 4,
  "nbformat_minor": 0,
  "metadata": {
    "colab": {
      "provenance": [],
      "authorship_tag": "ABX9TyMH4nw5T2r3P4XhMqQQwkVE",
      "include_colab_link": true
    },
    "kernelspec": {
      "name": "python3",
      "display_name": "Python 3"
    },
    "language_info": {
      "name": "python"
    }
  },
  "cells": [
    {
      "cell_type": "markdown",
      "metadata": {
        "id": "view-in-github",
        "colab_type": "text"
      },
      "source": [
        "<a href=\"https://colab.research.google.com/github/Yuya122815/Prog2kakushin/blob/main/work1.ipynb\" target=\"_parent\"><img src=\"https://colab.research.google.com/assets/colab-badge.svg\" alt=\"Open In Colab\"/></a>"
      ]
    },
    {
      "cell_type": "markdown",
      "source": [
        "以下のプログラムは広島県のオープンデータサイトから人口のcsvファイルを読み込み、pandasを用いて不要なデータを削除し、csvファイルとして保存するためのプログラムです。"
      ],
      "metadata": {
        "id": "Y-6oohwdjxyC"
      }
    },
    {
      "cell_type": "code",
      "source": [
        "import pandas as pd\n",
        "import requests\n",
        "import io\n",
        "\n",
        "url = 'https://hiroshima-opendata.dataeye.jp/resource_download/7898'\n",
        "res = requests.get(url).content\n",
        "df = pd.read_csv(io.StringIO(res.decode('shift_jis')), header=0, index_col=None)\n",
        "df = df.drop('都道府県コード又は市区町村コード', axis=1)\n",
        "df = df.drop('地域コード', axis=1)\n",
        "df = df.drop('備考', axis=1)\n",
        "df.to_csv('jinkou_noindex.csv', index=False)"
      ],
      "metadata": {
        "id": "Hxxn7cQ5hCX5"
      },
      "execution_count": null,
      "outputs": []
    },
    {
      "cell_type": "markdown",
      "source": [
        "以下のプログラムは読み込んだcsvファイルをデータフレームにし、pandasを用いて性別・年齢を入力すると最大値とその地域名、最小値とその地域名、平均値と合計値を記述してくれるプログラムです。"
      ],
      "metadata": {
        "id": "pULcJWHD2DLt"
      }
    },
    {
      "cell_type": "code",
      "source": [
        "df = pd.read_csv('jinkou_noindex.csv')\n",
        "a=None\n",
        "b=None\n",
        "c=0\n",
        "d=0\n",
        "df = df.drop(0)\n",
        "while a!='男性' and a!='女性' and a!='指定なし':\n",
        "  if c!=0:\n",
        "    print('もう一度入力してください。')\n",
        "  a=input('性別指定\\n男性or女性or指定なし：')\n",
        "  c+=1\n",
        "while b!='0-4歳' and b!='5-9歳' and b!='10-14歳' and b!='15-19歳' and b!='20-24歳' and b!='25-29歳' and b!='30-34歳' and b!='35-39歳' and b!='40-44歳' and b!='45-49歳' and b!='50-54歳' and b!='55-59歳' and b!='60-64歳' and b!='65-69歳' and b!='70-74歳' and b!='75-79歳' and b!='80-84歳' and b!='85歳以上' and b!='指定なし':\n",
        "  if d!=0:\n",
        "    print('もう一度入力してください。')\n",
        "  b=input('年齢指定\\n0-4歳or5-9歳or10-14歳or15-19歳or20-24歳or25-29歳or30-34歳or35-39歳or40-44歳or45-49歳or50-54歳or55-59歳or60-64歳or65-69歳or70-74歳or75-79歳or80-84歳or85歳以上or指定なし：')\n",
        "  c+=1\n",
        "if a=='指定なし' and b=='指定なし':\n",
        "  M=df['総人口'].max()\n",
        "  idxM=df['総人口'].idxmax()\n",
        "  m=df['総人口'].min()\n",
        "  idxm=df['総人口'].idxmin()\n",
        "  ave=df['総人口'].mean()\n",
        "  sum=df['総人口'].sum()\n",
        "elif a=='指定なし':\n",
        "  df[f'{b}']=df[f'{b}の男性']+df[f'{b}の女性']\n",
        "  M=df[f'{b}'].max()\n",
        "  idxM=df[f'{b}'].idxmax()\n",
        "  m=df[f'{b}'].min()\n",
        "  idxm=df[f'{b}'].idxmin()\n",
        "  ave=df[f'{b}'].mean()\n",
        "  sum=df[f'{b}'].sum()\n",
        "  df = df.drop(f'{b}', axis=1)\n",
        "elif b=='指定なし':\n",
        "  M=df[f'{a}'].max()\n",
        "  idxM=df[f'{a}'].idxmax()\n",
        "  m=df[f'{a}'].min()\n",
        "  idxm=df[f'{a}'].idxmin()\n",
        "  ave=df[f'{a}'].mean()\n",
        "  sum=df[f'{a}'].sum()\n",
        "else:\n",
        "  M=df[f'{b}の{a}'].max()\n",
        "  idxM=df[f'{b}の{a}'].idxmax()\n",
        "  m=df[f'{b}の{a}'].min()\n",
        "  idxm=df[f'{b}の{a}'].idxmin()\n",
        "  ave=df[f'{b}の{a}'].mean()\n",
        "  sum=df[f'{b}の{a}'].sum()\n",
        "print(f'性別：{a},年齢：{b}の最大値は{df.iloc[idxM-1,3]}の{M}人')\n",
        "print(f'性別：{a},年齢：{b}の最小値は{df.iloc[idxm-1,3]}の{m}人')\n",
        "print(f'性別：{a},年齢：{b}の平均値は{ave}人')\n",
        "print(f'性別：{a},年齢：{b}の合計は{sum}人')\n",
        "\n"
      ],
      "metadata": {
        "colab": {
          "base_uri": "https://localhost:8080/"
        },
        "id": "KnwcZyZAhCMS",
        "outputId": "2592df4f-ae97-4823-92cc-5ed5024797df"
      },
      "execution_count": 32,
      "outputs": [
        {
          "output_type": "stream",
          "name": "stdout",
          "text": [
            "性別指定\n",
            "男性or女性or指定なし：男性\n",
            "年齢指定\n",
            "0-4歳or5-9歳or10-14歳or15-19歳or20-24歳or25-29歳or30-34歳or35-39歳or40-44歳or45-49歳or50-54歳or55-59歳or60-64歳or65-69歳or70-74歳or75-79歳or80-84歳or85歳以上or指定なし：15-19歳\n",
            "性別：男性,年齢：15-19歳の最大値は安佐北区の6839人\n",
            "性別：男性,年齢：15-19歳の最小値は佐伯区の2055人\n",
            "性別：男性,年齢：15-19歳の平均値は3593.375人\n",
            "性別：男性,年齢：15-19歳の合計は28747人\n"
          ]
        }
      ]
    }
  ]
}