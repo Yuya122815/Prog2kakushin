{
  "nbformat": 4,
  "nbformat_minor": 0,
  "metadata": {
    "colab": {
      "provenance": [],
      "authorship_tag": "ABX9TyPmwmwsvbKBMkAXINpCd9D0",
      "include_colab_link": true
    },
    "kernelspec": {
      "name": "python3",
      "display_name": "Python 3"
    },
    "language_info": {
      "name": "python"
    }
  },
  "cells": [
    {
      "cell_type": "markdown",
      "metadata": {
        "id": "view-in-github",
        "colab_type": "text"
      },
      "source": [
        "<a href=\"https://colab.research.google.com/github/Yuya122815/Prog2kakushin/blob/main/work3.ipynb\" target=\"_parent\"><img src=\"https://colab.research.google.com/assets/colab-badge.svg\" alt=\"Open In Colab\"/></a>"
      ]
    },
    {
      "cell_type": "markdown",
      "source": [
        "\n",
        "以下のプログラムはマルバツゲームができるプログラムです。"
      ],
      "metadata": {
        "id": "FETwUi1G3oxe"
      }
    },
    {
      "cell_type": "code",
      "execution_count": 61,
      "metadata": {
        "colab": {
          "base_uri": "https://localhost:8080/",
          "height": 1000
        },
        "id": "JBpbDk2pb_8t",
        "outputId": "26c1921d-6342-4694-8283-89cb1136b331"
      },
      "outputs": [
        {
          "name": "stdout",
          "output_type": "stream",
          "text": [
            "マルバツゲームを開始します\n",
            "マルの番です\n",
            "1から3の整数を入力してください\n",
            "上から何番目?:3\n",
            "左から何番目?:2\n"
          ]
        },
        {
          "output_type": "display_data",
          "data": {
            "text/plain": [
              "<PIL.Image.Image image mode=RGB size=307x307>"
            ],
            "image/png": "[encoded data removed]"
          },
          "metadata": {}
        },
        {
          "name": "stdout",
          "output_type": "stream",
          "text": [
            "バツの番です\n",
            "1から3の整数を入力してください\n",
            "上から何番目?:3\n",
            "左から何番目?:3\n"
          ]
        },
        {
          "output_type": "display_data",
          "data": {
            "text/plain": [
              "<PIL.Image.Image image mode=RGB size=307x307>"
            ],
            "image/png": "[encoded data removed]"
          },
          "metadata": {}
        },
        {
          "name": "stdout",
          "output_type": "stream",
          "text": [
            "マルの番です\n",
            "1から3の整数を入力してください\n",
            "上から何番目?:1\n",
            "左から何番目?:1\n"
          ]
        },
        {
          "output_type": "display_data",
          "data": {
            "text/plain": [
              "<PIL.Image.Image image mode=RGB size=307x307>"
            ],
            "image/png": "[encoded data removed]"
          },
          "metadata": {}
        },
        {
          "name": "stdout",
          "output_type": "stream",
          "text": [
            "バツの番です\n",
            "1から3の整数を入力してください\n",
            "上から何番目?:2\n",
            "左から何番目?:3\n"
          ]
        },
        {
          "output_type": "display_data",
          "data": {
            "text/plain": [
              "<PIL.Image.Image image mode=RGB size=307x307>"
            ],
            "image/png": "[encoded data removed]"
          },
          "metadata": {}
        },
        {
          "name": "stdout",
          "output_type": "stream",
          "text": [
            "マルの番です\n",
            "1から3の整数を入力してください\n",
            "上から何番目?:2\n",
            "左から何番目?:2\n"
          ]
        },
        {
          "output_type": "display_data",
          "data": {
            "text/plain": [
              "<PIL.Image.Image image mode=RGB size=307x307>"
            ],
            "image/png": "[encoded data removed]"
          },
          "metadata": {}
        },
        {
          "name": "stdout",
          "output_type": "stream",
          "text": [
            "バツの番です\n",
            "1から3の整数を入力してください\n",
            "上から何番目?:1\n",
            "左から何番目?:3\n"
          ]
        },
        {
          "output_type": "display_data",
          "data": {
            "text/plain": [
              "<PIL.Image.Image image mode=RGB size=307x307>"
            ],
            "image/png": "[encoded data removed]"
          },
          "metadata": {}
        },
        {
          "output_type": "stream",
          "name": "stdout",
          "text": [
            "バツの勝ち!!\n"
          ]
        }
      ],
      "source": [
        "import numpy as np\n",
        "import cv2, sys\n",
        "from google.colab.patches import cv2_imshow\n",
        "import numpy as np\n",
        "\n",
        "def maru(i,j,img):\n",
        "  cv2.circle(img, (51+102*j, 51+102*i), 35, (255, 0, 0), thickness=10)\n",
        "\n",
        "def batu(i,j,img):\n",
        "  cv2.line(img, (21+102*j, 21+102*i), (81+102*j, 81+102*i), (0, 0, 255), thickness=10, lineType=cv2.LINE_AA)\n",
        "  cv2.line(img, (81+102*j, 21+102*i), (21+102*j, 81+102*i), (0, 0, 255), thickness=10, lineType=cv2.LINE_AA)\n",
        "\n",
        "print(\"マルバツゲームを開始します\")\n",
        "img = np.zeros( (307, 307, 3), np.uint8 )\n",
        "img.fill( 255 )\n",
        "for i in range(4):\n",
        "  cv2.line(img, (0, 102*i), (306, 102*i), color=(0,0,0), thickness=1)\n",
        "  cv2.line(img, (102*i, 0), (102*i, 306), color=(0,0,0), thickness=1)\n",
        "\n",
        "t=0\n",
        "a=np.zeros((3,3))\n",
        "\n",
        "while True:\n",
        "  i=0\n",
        "  j=0\n",
        "  t+=1\n",
        "  b=0\n",
        "  if t%2==1:\n",
        "    print(\"マルの番です\")\n",
        "  else:\n",
        "    print(\"バツの番です\")\n",
        "\n",
        "  while True:\n",
        "    print(\"1から3の整数を入力してください\")\n",
        "    i=int(input(\"上から何番目?:\"))\n",
        "    if i>=1 and i<=3:\n",
        "      break\n",
        "  while True:\n",
        "    j=int(input(\"左から何番目?:\"))\n",
        "    if j>=1 and j<=3:\n",
        "      break\n",
        "    print(\"1から3の整数を入力してください\")\n",
        "\n",
        "  if a[i-1,j-1]==1:\n",
        "    print(\"そこはマルで埋まっています\\nやり直してください\")\n",
        "    t-=1\n",
        "    continue\n",
        "  if a[i-1,j-1]==2:\n",
        "    print(\"そこはバツで埋まっています\\nやり直してください\")\n",
        "    t-=1\n",
        "    continue\n",
        "\n",
        "  if t%2==1:\n",
        "    maru(i-1,j-1,img)\n",
        "    a[i-1,j-1]=1\n",
        "  else:\n",
        "    batu(i-1,j-1,img)\n",
        "    a[i-1,j-1]=2\n",
        "\n",
        "  for n in range(3):\n",
        "    sum1=1\n",
        "    sum2=1\n",
        "    sum3=1\n",
        "    sum4=1\n",
        "    for m in range(3):\n",
        "      sum1*=a[n,m]\n",
        "      sum2*=a[m,n]\n",
        "      sum3*=a[m,m]\n",
        "      sum4*=a[m,2-m]\n",
        "    if sum1==1:\n",
        "      b=1\n",
        "      cv2.line(img, (21,51+102*n), (285,51+102*n), (0, 0, 0), thickness=7, lineType=cv2.LINE_AA)\n",
        "    if sum1==8:\n",
        "      b=2\n",
        "      cv2.line(img, (21,51+102*n), (285,51+102*n), (0, 0, 0), thickness=7, lineType=cv2.LINE_AA)\n",
        "    if sum2==1:\n",
        "      b=1\n",
        "      cv2.line(img, (51+102*n,21), (51+102*n,285), (0, 0, 0), thickness=7, lineType=cv2.LINE_AA)\n",
        "    if sum2==8:\n",
        "      b=2\n",
        "      cv2.line(img, (51+102*n,21), (51+102*n,285), (0, 0, 0), thickness=7, lineType=cv2.LINE_AA)\n",
        "    if sum3==1:\n",
        "      b=1\n",
        "      cv2.line(img, (21,21), (285,285), (0, 0, 0), thickness=7, lineType=cv2.LINE_AA)\n",
        "    if sum3==8:\n",
        "      b=2\n",
        "      cv2.line(img, (21,21), (285,285), (0, 0, 0), thickness=7, lineType=cv2.LINE_AA)\n",
        "    if sum4==1:\n",
        "      b=1\n",
        "      cv2.line(img, (285,21), (21,285), (0, 0, 0), thickness=7, lineType=cv2.LINE_AA)\n",
        "    if sum4==8:\n",
        "      b=2\n",
        "      cv2.line(img, (285,21), (21,285), (0, 0, 0), thickness=7, lineType=cv2.LINE_AA)\n",
        "\n",
        "  cv2_imshow(img)\n",
        "\n",
        "  if b==1:\n",
        "    print(\"マルの勝ち!!\")\n",
        "    break\n",
        "  if b==2:\n",
        "    print(\"バツの勝ち!!\")\n",
        "    break\n",
        "  if t==9:\n",
        "    print(\"引き分け\")\n",
        "    break"
      ]
    }
  ]
}